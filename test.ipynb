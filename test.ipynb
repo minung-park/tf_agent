{
  "nbformat": 4,
  "nbformat_minor": 0,
  "metadata": {
    "colab": {
      "name": "Untitled0.ipynb",
      "version": "0.3.2",
      "provenance": [],
      "collapsed_sections": [],
      "include_colab_link": true
    },
    "kernelspec": {
      "name": "python2",
      "display_name": "Python 2"
    }
  },
  "cells": [
    {
      "cell_type": "markdown",
      "metadata": {
        "id": "view-in-github",
        "colab_type": "text"
      },
      "source": [
        "<a href=\"https://colab.research.google.com/github/minyoung-park/tf_agent/blob/master/test.ipynb\" target=\"_parent\"><img src=\"https://colab.research.google.com/assets/colab-badge.svg\" alt=\"Open In Colab\"/></a>"
      ]
    },
    {
      "cell_type": "code",
      "metadata": {
        "id": "Aghcqx1LMyRf",
        "colab_type": "code",
        "outputId": "af1c262c-b11b-4484-af09-6452e24b57e8",
        "colab": {
          "base_uri": "https://localhost:8080/",
          "height": 1115
        }
      },
      "source": [
        "# Note: If you haven't installed the following dependencies, run:\n",
        "#!apt-get install xvfb\n",
        "!pip install 'gym==0.10.11'\n",
        "!pip install imageio\n",
        "!pip install PILLOW\n",
        "!pip install pyglet\n",
        "!pip install pyvirtualdisplay\n",
        "!pip install --user --upgrade tensorflow-probability\n",
        "!pip install tf-agents-nightly\n",
        "!pip install tf-nightly"
      ],
      "execution_count": 0,
      "outputs": [
        {
          "output_type": "stream",
          "text": [
            "Requirement already satisfied: gym==0.10.11 in /usr/local/lib/python2.7/dist-packages (0.10.11)\n",
            "Requirement already satisfied: scipy in /usr/local/lib/python2.7/dist-packages (from gym==0.10.11) (1.2.1)\n",
            "Requirement already satisfied: six in /usr/local/lib/python2.7/dist-packages (from gym==0.10.11) (1.12.0)\n",
            "Requirement already satisfied: requests>=2.0 in /usr/local/lib/python2.7/dist-packages (from gym==0.10.11) (2.21.0)\n",
            "Requirement already satisfied: pyglet>=1.2.0 in /usr/local/lib/python2.7/dist-packages (from gym==0.10.11) (1.3.2)\n",
            "Requirement already satisfied: numpy>=1.10.4 in /usr/local/lib/python2.7/dist-packages (from gym==0.10.11) (1.16.3)\n",
            "Requirement already satisfied: urllib3<1.25,>=1.21.1 in /usr/local/lib/python2.7/dist-packages (from requests>=2.0->gym==0.10.11) (1.24.2)\n",
            "Requirement already satisfied: certifi>=2017.4.17 in /usr/local/lib/python2.7/dist-packages (from requests>=2.0->gym==0.10.11) (2019.3.9)\n",
            "Requirement already satisfied: chardet<3.1.0,>=3.0.2 in /usr/local/lib/python2.7/dist-packages (from requests>=2.0->gym==0.10.11) (3.0.4)\n",
            "Requirement already satisfied: idna<2.9,>=2.5 in /usr/local/lib/python2.7/dist-packages (from requests>=2.0->gym==0.10.11) (2.8)\n",
            "Requirement already satisfied: future in /usr/local/lib/python2.7/dist-packages (from pyglet>=1.2.0->gym==0.10.11) (0.16.0)\n",
            "Requirement already satisfied: imageio in /usr/local/lib/python2.7/dist-packages (2.4.1)\n",
            "Requirement already satisfied: futures in /usr/local/lib/python2.7/dist-packages (from imageio) (3.2.0)\n",
            "Requirement already satisfied: numpy in /usr/local/lib/python2.7/dist-packages (from imageio) (1.16.3)\n",
            "Requirement already satisfied: enum34 in /usr/local/lib/python2.7/dist-packages (from imageio) (1.1.6)\n",
            "Requirement already satisfied: pillow in /usr/local/lib/python2.7/dist-packages (from imageio) (4.3.0)\n",
            "Requirement already satisfied: olefile in /usr/local/lib/python2.7/dist-packages (from pillow->imageio) (0.46)\n",
            "Requirement already satisfied: PILLOW in /usr/local/lib/python2.7/dist-packages (4.3.0)\n",
            "Requirement already satisfied: olefile in /usr/local/lib/python2.7/dist-packages (from PILLOW) (0.46)\n",
            "Requirement already satisfied: pyglet in /usr/local/lib/python2.7/dist-packages (1.3.2)\n",
            "Requirement already satisfied: future in /usr/local/lib/python2.7/dist-packages (from pyglet) (0.16.0)\n",
            "Requirement already satisfied: pyvirtualdisplay in /usr/local/lib/python2.7/dist-packages (0.2.1)\n",
            "Requirement already satisfied: EasyProcess in /usr/local/lib/python2.7/dist-packages (from pyvirtualdisplay) (0.2.5)\n",
            "Requirement already up-to-date: tensorflow-probability in /usr/local/lib/python2.7/dist-packages (0.6.0)\n",
            "Requirement already satisfied, skipping upgrade: six>=1.10.0 in /usr/local/lib/python2.7/dist-packages (from tensorflow-probability) (1.12.0)\n",
            "Requirement already satisfied, skipping upgrade: numpy>=1.13.3 in /usr/local/lib/python2.7/dist-packages (from tensorflow-probability) (1.16.3)\n",
            "Requirement already satisfied: tf-agents-nightly in /usr/local/lib/python2.7/dist-packages (0.2.0.dev20190430)\n",
            "Requirement already satisfied: gin-config==0.1.3 in /usr/local/lib/python2.7/dist-packages (from tf-agents-nightly) (0.1.3)\n",
            "Requirement already satisfied: absl-py>=0.6.1 in /usr/local/lib/python2.7/dist-packages (from tf-agents-nightly) (0.7.1)\n",
            "Requirement already satisfied: six>=1.10.0 in /usr/local/lib/python2.7/dist-packages (from tf-agents-nightly) (1.12.0)\n",
            "Requirement already satisfied: tfp-nightly in /usr/local/lib/python2.7/dist-packages (from tf-agents-nightly) (0.7.0.dev20190508)\n",
            "Requirement already satisfied: numpy>=1.13.3 in /usr/local/lib/python2.7/dist-packages (from tf-agents-nightly) (1.16.3)\n",
            "Requirement already satisfied: enum34>=1.1.6 in /usr/local/lib/python2.7/dist-packages (from gin-config==0.1.3->tf-agents-nightly) (1.1.6)\n",
            "Requirement already satisfied: cloudpickle>=0.6.1 in /usr/local/lib/python2.7/dist-packages (from tfp-nightly->tf-agents-nightly) (0.6.1)\n",
            "Requirement already satisfied: decorator in /usr/local/lib/python2.7/dist-packages (from tfp-nightly->tf-agents-nightly) (4.4.0)\n",
            "Requirement already satisfied: tf-nightly in /usr/local/lib/python2.7/dist-packages (1.14.1.dev20190508)\n",
            "Requirement already satisfied: grpcio>=1.8.6 in /usr/local/lib/python2.7/dist-packages (from tf-nightly) (1.15.0)\n",
            "Requirement already satisfied: mock>=2.0.0 in /usr/local/lib/python2.7/dist-packages (from tf-nightly) (2.0.0)\n",
            "Requirement already satisfied: keras-applications>=1.0.6 in /usr/local/lib/python2.7/dist-packages (from tf-nightly) (1.0.7)\n",
            "Requirement already satisfied: tb-nightly<1.15.0a0,>=1.14.0a0 in /usr/local/lib/python2.7/dist-packages (from tf-nightly) (1.14.0a20190508)\n",
            "Requirement already satisfied: wrapt>=1.11.1 in /usr/local/lib/python2.7/dist-packages (from tf-nightly) (1.11.1)\n",
            "Requirement already satisfied: protobuf>=3.6.1 in /usr/local/lib/python2.7/dist-packages (from tf-nightly) (3.7.1)\n",
            "Requirement already satisfied: keras-preprocessing>=1.0.5 in /usr/local/lib/python2.7/dist-packages (from tf-nightly) (1.0.9)\n",
            "Requirement already satisfied: gast>=0.2.0 in /usr/local/lib/python2.7/dist-packages (from tf-nightly) (0.2.2)\n",
            "Requirement already satisfied: wheel in /usr/local/lib/python2.7/dist-packages (from tf-nightly) (0.33.1)\n",
            "Requirement already satisfied: google-pasta>=0.1.2 in /usr/local/lib/python2.7/dist-packages (from tf-nightly) (0.1.6)\n",
            "Requirement already satisfied: enum34>=1.1.6 in /usr/local/lib/python2.7/dist-packages (from tf-nightly) (1.1.6)\n",
            "Requirement already satisfied: six>=1.10.0 in /usr/local/lib/python2.7/dist-packages (from tf-nightly) (1.12.0)\n",
            "Requirement already satisfied: tf-estimator-nightly in /usr/local/lib/python2.7/dist-packages (from tf-nightly) (1.14.0.dev2019050801)\n",
            "Requirement already satisfied: absl-py>=0.7.0 in /usr/local/lib/python2.7/dist-packages (from tf-nightly) (0.7.1)\n",
            "Requirement already satisfied: termcolor>=1.1.0 in /usr/local/lib/python2.7/dist-packages (from tf-nightly) (1.1.0)\n",
            "Requirement already satisfied: backports.weakref>=1.0rc1 in /usr/local/lib/python2.7/dist-packages (from tf-nightly) (1.0.post1)\n",
            "Requirement already satisfied: numpy<2.0,>=1.14.5 in /usr/local/lib/python2.7/dist-packages (from tf-nightly) (1.16.3)\n",
            "Requirement already satisfied: astor>=0.6.0 in /usr/local/lib/python2.7/dist-packages (from tf-nightly) (0.7.1)\n",
            "Requirement already satisfied: futures>=2.2.0 in /usr/local/lib/python2.7/dist-packages (from grpcio>=1.8.6->tf-nightly) (3.2.0)\n",
            "Requirement already satisfied: funcsigs>=1; python_version < \"3.3\" in /usr/local/lib/python2.7/dist-packages (from mock>=2.0.0->tf-nightly) (1.0.2)\n",
            "Requirement already satisfied: pbr>=0.11 in /usr/local/lib/python2.7/dist-packages (from mock>=2.0.0->tf-nightly) (5.2.0)\n",
            "Requirement already satisfied: h5py in /usr/local/lib/python2.7/dist-packages (from keras-applications>=1.0.6->tf-nightly) (2.8.0)\n",
            "Requirement already satisfied: werkzeug>=0.11.15 in /usr/local/lib/python2.7/dist-packages (from tb-nightly<1.15.0a0,>=1.14.0a0->tf-nightly) (0.15.2)\n",
            "Requirement already satisfied: markdown>=2.6.8 in /usr/local/lib/python2.7/dist-packages (from tb-nightly<1.15.0a0,>=1.14.0a0->tf-nightly) (3.1)\n",
            "Requirement already satisfied: setuptools in /usr/local/lib/python2.7/dist-packages (from protobuf>=3.6.1->tf-nightly) (41.0.1)\n"
          ],
          "name": "stdout"
        }
      ]
    },
    {
      "cell_type": "code",
      "metadata": {
        "id": "csJDKFB8M4Th",
        "colab_type": "code",
        "colab": {}
      },
      "source": [
        "from __future__ import absolute_import\n",
        "from __future__ import division\n",
        "from __future__ import print_function\n",
        "\n",
        "import base64\n",
        "import imageio\n",
        "import IPython\n",
        "import matplotlib\n",
        "import matplotlib.pyplot as plt\n",
        "import PIL.Image\n",
        "import pyvirtualdisplay\n",
        "\n",
        "import tensorflow as tf\n",
        "\n",
        "from tf_agents.agents.dqn import dqn_agent\n",
        "from tf_agents.networks import q_network\n",
        "from tf_agents.policies import random_tf_policy\n",
        "from tf_agents.replay_buffers import tf_uniform_replay_buffer\n",
        "from tf_agents.trajectories import trajectory\n",
        "from tf_agents.utils import common\n",
        "\n",
        "from tf_agents.environments import suite_dm_control\n",
        "from tf_agents.environments import tf_py_environment \n"
      ],
      "execution_count": 0,
      "outputs": []
    },
    {
      "cell_type": "code",
      "metadata": {
        "id": "ywM6C9NZNCxo",
        "colab_type": "code",
        "colab": {}
      },
      "source": [
        "'''\n",
        "An DQN Agent\n",
        "\n",
        "- An DQN\n",
        "- Keep an experience_replay pool: training_data <State_t, Action, Reward, State_t+1>\n",
        "- Keep a copy DQN\n",
        "\n",
        "Command: python .\\run.py --agt 9 --usr 1 --max_turn 40 --movie_kb_path .\\deep_dialog\\data\\movie_kb.1k.json \n",
        "--dqn_hidden_size 80 \n",
        "--experience_replay_pool_size 1000 \n",
        "--replacement_steps 50 \n",
        "--per_train_epochs 100 \n",
        "--episodes 200 \n",
        "--err_method 2\n",
        "\n",
        "'''\n",
        "\n",
        "# hyperparam\n",
        "env_name = 'test-env'  # @param\n",
        "movie_kb_path = '.\\deep_dialog\\data\\movie_kb.1k.json ' # @param\n",
        "max_turn = 40  # @param\n",
        "dqn_hidden_size = 80 # @param\n",
        "experience_replay_pool_size = 1000  # @param\n",
        "replacement_steps = 50 # @param\n",
        "per_train_epochs = 100 # @param\n",
        "episodes = 200 # @param\n"
      ],
      "execution_count": 0,
      "outputs": []
    },
    {
      "cell_type": "code",
      "metadata": {
        "id": "Zxx6_yMaZ20C",
        "colab_type": "code",
        "colab": {}
      },
      "source": [
        "#Environment\n",
        "\n"
      ],
      "execution_count": 0,
      "outputs": []
    }
  ]
}